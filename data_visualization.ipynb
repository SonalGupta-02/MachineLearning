{
  "nbformat": 4,
  "nbformat_minor": 0,
  "metadata": {
    "colab": {
      "name": "data_visualization.ipynb",
      "version": "0.3.2",
      "provenance": [],
      "collapsed_sections": []
    },
    "kernelspec": {
      "name": "python3",
      "display_name": "Python 3"
    }
  },
  "cells": [
    {
      "cell_type": "code",
      "metadata": {
        "id": "JtgGEh03B4I5",
        "colab_type": "code",
        "colab": {}
      },
      "source": [
        "import pandas as pd\n",
        "import matplotlib.pyplot as plt\n",
        "\n"
      ],
      "execution_count": 0,
      "outputs": []
    },
    {
      "cell_type": "code",
      "metadata": {
        "id": "XJLJSDbuHHnq",
        "colab_type": "code",
        "colab": {
          "base_uri": "https://localhost:8080/",
          "height": 173
        },
        "outputId": "d754acff-c383-4da6-9859-c34773e04f11"
      },
      "source": [
        "df=pd.read_csv(\"student.csv\")\n",
        "df\n"
      ],
      "execution_count": 19,
      "outputs": [
        {
          "output_type": "execute_result",
          "data": {
            "text/html": [
              "<div>\n",
              "<style scoped>\n",
              "    .dataframe tbody tr th:only-of-type {\n",
              "        vertical-align: middle;\n",
              "    }\n",
              "\n",
              "    .dataframe tbody tr th {\n",
              "        vertical-align: top;\n",
              "    }\n",
              "\n",
              "    .dataframe thead th {\n",
              "        text-align: right;\n",
              "    }\n",
              "</style>\n",
              "<table border=\"1\" class=\"dataframe\">\n",
              "  <thead>\n",
              "    <tr style=\"text-align: right;\">\n",
              "      <th></th>\n",
              "      <th>S_Name</th>\n",
              "      <th>Marks</th>\n",
              "      <th>Age</th>\n",
              "      <th>Contact</th>\n",
              "      <th>Study_hours</th>\n",
              "    </tr>\n",
              "  </thead>\n",
              "  <tbody>\n",
              "    <tr>\n",
              "      <th>0</th>\n",
              "      <td>Rishabh</td>\n",
              "      <td>85</td>\n",
              "      <td>20</td>\n",
              "      <td>87777</td>\n",
              "      <td>6</td>\n",
              "    </tr>\n",
              "    <tr>\n",
              "      <th>1</th>\n",
              "      <td>Shomil</td>\n",
              "      <td>70</td>\n",
              "      <td>19</td>\n",
              "      <td>45455</td>\n",
              "      <td>4</td>\n",
              "    </tr>\n",
              "    <tr>\n",
              "      <th>2</th>\n",
              "      <td>Raunak</td>\n",
              "      <td>90</td>\n",
              "      <td>18</td>\n",
              "      <td>54544</td>\n",
              "      <td>5</td>\n",
              "    </tr>\n",
              "    <tr>\n",
              "      <th>3</th>\n",
              "      <td>Saumya</td>\n",
              "      <td>65</td>\n",
              "      <td>19</td>\n",
              "      <td>78787</td>\n",
              "      <td>4</td>\n",
              "    </tr>\n",
              "  </tbody>\n",
              "</table>\n",
              "</div>"
            ],
            "text/plain": [
              "    S_Name  Marks  Age  Contact  Study_hours\n",
              "0  Rishabh     85   20    87777            6\n",
              "1  Shomil      70   19    45455            4\n",
              "2   Raunak     90   18    54544            5\n",
              "3   Saumya     65   19    78787            4"
            ]
          },
          "metadata": {
            "tags": []
          },
          "execution_count": 19
        }
      ]
    },
    {
      "cell_type": "code",
      "metadata": {
        "id": "iFOfQyyzHkyR",
        "colab_type": "code",
        "colab": {}
      },
      "source": [
        "Mark=df['Marks']\n",
        "Name=df['S_Name']\n"
      ],
      "execution_count": 0,
      "outputs": []
    },
    {
      "cell_type": "code",
      "metadata": {
        "id": "AA_5qoUlOcQb",
        "colab_type": "code",
        "colab": {
          "base_uri": "https://localhost:8080/",
          "height": 459
        },
        "outputId": "7f9ce485-11e5-449e-e757-221ee6a5efff"
      },
      "source": [
        "plt.pie(Mark,labels=Name,autopct='%1.1f%%')"
      ],
      "execution_count": 21,
      "outputs": [
        {
          "output_type": "execute_result",
          "data": {
            "text/plain": [
              "([<matplotlib.patches.Wedge at 0x7f5735415198>,\n",
              "  <matplotlib.patches.Wedge at 0x7f5735415898>,\n",
              "  <matplotlib.patches.Wedge at 0x7f5735415f98>,\n",
              "  <matplotlib.patches.Wedge at 0x7f57354286d8>],\n",
              " [Text(0.7165097133490096, 0.8346339501101788, 'Rishabh'),\n",
              "  Text(-0.8346339501101789, 0.7165097133490094, 'Shomil '),\n",
              "  Text(-0.6733166044467489, -0.8698532923294022, 'Raunak'),\n",
              "  Text(0.8698532608091765, -0.6733166451675191, 'Saumya')],\n",
              " [Text(0.39082348000855066, 0.4552548818782793, '27.4%'),\n",
              "  Text(-0.45525488187827934, 0.3908234800085505, '22.6%'),\n",
              "  Text(-0.3672636024254993, -0.4744654321796739, '29.0%'),\n",
              "  Text(0.4744654149868235, -0.3672636246368286, '21.0%')])"
            ]
          },
          "metadata": {
            "tags": []
          },
          "execution_count": 21
        },
        {
          "output_type": "display_data",
          "data": {
            "image/png": "[encoded data removed]",
            "text/plain": [
              "<Figure size 432x288 with 1 Axes>"
            ]
          },
          "metadata": {
            "tags": []
          }
        }
      ]
    },
    {
      "cell_type": "code",
      "metadata": {
        "id": "9En-klyFQT_s",
        "colab_type": "code",
        "colab": {}
      },
      "source": [
        ""
      ],
      "execution_count": 0,
      "outputs": []
    }
  ]
}