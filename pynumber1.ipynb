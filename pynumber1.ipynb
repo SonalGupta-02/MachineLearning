{
  "nbformat": 4,
  "nbformat_minor": 0,
  "metadata": {
    "colab": {
      "name": "pynumber1.ipynb",
      "version": "0.3.2",
      "provenance": [],
      "collapsed_sections": []
    },
    "kernelspec": {
      "name": "python3",
      "display_name": "Python 3"
    }
  },
  "cells": [
    {
      "cell_type": "code",
      "metadata": {
        "id": "WPo3kbYGfAPi",
        "colab_type": "code",
        "colab": {}
      },
      "source": [
        "import numpy as np  "
      ],
      "execution_count": 0,
      "outputs": []
    },
    {
      "cell_type": "code",
      "metadata": {
        "id": "J0DgfrjhfCwr",
        "colab_type": "code",
        "colab": {
          "base_uri": "https://localhost:8080/",
          "height": 85
        },
        "outputId": "b3390a8a-e221-484f-aa92-82d7db264921"
      },
      "source": [
        "# input from user\n",
        "r=int(input(\"Enter no of rows:--\"))\n",
        "c=int(input(\"Enter no of columns:--\"))\n",
        "\n",
        "# Generating random numbers \n",
        "x=np.random.random((r,c))\n",
        "x"
      ],
      "execution_count": 6,
      "outputs": [
        {
          "output_type": "stream",
          "text": [
            "Enter no of rows:--2\n",
            "Enter no of columns:--3\n"
          ],
          "name": "stdout"
        },
        {
          "output_type": "execute_result",
          "data": {
            "text/plain": [
              "array([[0.71629553, 0.60320325, 0.13826367],\n",
              "       [0.30406423, 0.33550096, 0.19978295]])"
            ]
          },
          "metadata": {
            "tags": []
          },
          "execution_count": 6
        }
      ]
    },
    {
      "cell_type": "code",
      "metadata": {
        "id": "DL56zVylgGTh",
        "colab_type": "code",
        "colab": {
          "base_uri": "https://localhost:8080/",
          "height": 51
        },
        "outputId": "4394b1cd-4fbf-4866-b486-2116d9cbc79f"
      },
      "source": [
        "# Saving array into file \n",
        "np.savetxt('x.txt',x)\n",
        "\n",
        "# Loading array from file to variable\n",
        "y=np.loadtxt('x.txt')\n",
        "y"
      ],
      "execution_count": 9,
      "outputs": [
        {
          "output_type": "execute_result",
          "data": {
            "text/plain": [
              "array([[0.71629553, 0.60320325, 0.13826367],\n",
              "       [0.30406423, 0.33550096, 0.19978295]])"
            ]
          },
          "metadata": {
            "tags": []
          },
          "execution_count": 9
        }
      ]
    },
    {
      "cell_type": "code",
      "metadata": {
        "id": "DPiQ3bDsiCfI",
        "colab_type": "code",
        "colab": {}
      },
      "source": [
        ""
      ],
      "execution_count": 0,
      "outputs": []
    }
  ]
}